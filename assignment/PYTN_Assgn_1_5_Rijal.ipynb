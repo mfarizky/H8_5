{
 "cells": [
  {
   "cell_type": "markdown",
   "metadata": {},
   "source": [
    "# Analysis and Visualization of Crime in London City"
   ]
  },
  {
   "cell_type": "markdown",
   "metadata": {},
   "source": [
    "## Backgrounder"
   ]
  },
  {
   "cell_type": "markdown",
   "metadata": {},
   "source": [
    "`Crime `is a significant social issue in many major cities around the world, including London City, the capital of England. Greater London is a densely populated metropolitan area, which includes various boroughs or administrative districts. Understanding crime trendf_lc in Greater London has important implications for security policies, law enforcement, and the quality of life of city residents.\n",
    "\n",
    "In order to identify and address crime problems, crime data in London has been uploaded and shared with the public. This data includes information about the type of crime, the location of the crime, as well as the time and date the crime was reported. This data can provide valuable insights into crime patterns in the area."
   ]
  },
  {
   "cell_type": "markdown",
   "metadata": {},
   "source": [
    "## Dataset\n",
    "Pada kasus ini akan dilakukan teknik visualisasi menggunakan dataset `London Crime Data` 2008-2016'\n",
    "\n",
    "Sebelum mulai, download dataset dengan menjalankan cell berikut:"
   ]
  },
  {
   "cell_type": "code",
   "execution_count": 33,
   "metadata": {},
   "outputs": [],
   "source": [
    "import numpy as np\n",
    "import pandas as pd\n",
    "import matplotlib.pyplot as plt"
   ]
  },
  {
   "cell_type": "code",
   "execution_count": 3,
   "metadata": {},
   "outputs": [],
   "source": [
    "url_london_crime = \"../dataset/london_crime_by_lsoa.csv\"\n",
    "df_lc = pd.read_csv(\n",
    "    url_london_crime\n",
    "    # dtype={'month': str,\n",
    "    # 'year': str})\n",
    ")"
   ]
  },
  {
   "cell_type": "code",
   "execution_count": 4,
   "metadata": {},
   "outputs": [
    {
     "data": {
      "text/html": [
       "<div>\n",
       "<style scoped>\n",
       "    .dataframe tbody tr th:only-of-type {\n",
       "        vertical-align: middle;\n",
       "    }\n",
       "\n",
       "    .dataframe tbody tr th {\n",
       "        vertical-align: top;\n",
       "    }\n",
       "\n",
       "    .dataframe thead th {\n",
       "        text-align: right;\n",
       "    }\n",
       "</style>\n",
       "<table border=\"1\" class=\"dataframe\">\n",
       "  <thead>\n",
       "    <tr style=\"text-align: right;\">\n",
       "      <th></th>\n",
       "      <th>lsoa_code</th>\n",
       "      <th>borough</th>\n",
       "      <th>major_category</th>\n",
       "      <th>minor_category</th>\n",
       "      <th>value</th>\n",
       "      <th>year</th>\n",
       "      <th>month</th>\n",
       "    </tr>\n",
       "  </thead>\n",
       "  <tbody>\n",
       "    <tr>\n",
       "      <th>0</th>\n",
       "      <td>E01001116</td>\n",
       "      <td>Croydon</td>\n",
       "      <td>Burglary</td>\n",
       "      <td>Burglary in Other Buildings</td>\n",
       "      <td>0</td>\n",
       "      <td>2016</td>\n",
       "      <td>11</td>\n",
       "    </tr>\n",
       "    <tr>\n",
       "      <th>1</th>\n",
       "      <td>E01001646</td>\n",
       "      <td>Greenwich</td>\n",
       "      <td>Violence Against the Person</td>\n",
       "      <td>Other violence</td>\n",
       "      <td>0</td>\n",
       "      <td>2016</td>\n",
       "      <td>11</td>\n",
       "    </tr>\n",
       "    <tr>\n",
       "      <th>2</th>\n",
       "      <td>E01000677</td>\n",
       "      <td>Bromley</td>\n",
       "      <td>Violence Against the Person</td>\n",
       "      <td>Other violence</td>\n",
       "      <td>0</td>\n",
       "      <td>2015</td>\n",
       "      <td>5</td>\n",
       "    </tr>\n",
       "    <tr>\n",
       "      <th>3</th>\n",
       "      <td>E01003774</td>\n",
       "      <td>Redbridge</td>\n",
       "      <td>Burglary</td>\n",
       "      <td>Burglary in Other Buildings</td>\n",
       "      <td>0</td>\n",
       "      <td>2016</td>\n",
       "      <td>3</td>\n",
       "    </tr>\n",
       "    <tr>\n",
       "      <th>4</th>\n",
       "      <td>E01004563</td>\n",
       "      <td>Wandsworth</td>\n",
       "      <td>Robbery</td>\n",
       "      <td>Personal Property</td>\n",
       "      <td>0</td>\n",
       "      <td>2008</td>\n",
       "      <td>6</td>\n",
       "    </tr>\n",
       "    <tr>\n",
       "      <th>5</th>\n",
       "      <td>E01001320</td>\n",
       "      <td>Ealing</td>\n",
       "      <td>Theft and Handling</td>\n",
       "      <td>Other Theft</td>\n",
       "      <td>0</td>\n",
       "      <td>2012</td>\n",
       "      <td>5</td>\n",
       "    </tr>\n",
       "  </tbody>\n",
       "</table>\n",
       "</div>"
      ],
      "text/plain": [
       "   lsoa_code     borough               major_category  \\\n",
       "0  E01001116     Croydon                     Burglary   \n",
       "1  E01001646   Greenwich  Violence Against the Person   \n",
       "2  E01000677     Bromley  Violence Against the Person   \n",
       "3  E01003774   Redbridge                     Burglary   \n",
       "4  E01004563  Wandsworth                      Robbery   \n",
       "5  E01001320      Ealing           Theft and Handling   \n",
       "\n",
       "                minor_category  value  year  month  \n",
       "0  Burglary in Other Buildings      0  2016     11  \n",
       "1               Other violence      0  2016     11  \n",
       "2               Other violence      0  2015      5  \n",
       "3  Burglary in Other Buildings      0  2016      3  \n",
       "4            Personal Property      0  2008      6  \n",
       "5                  Other Theft      0  2012      5  "
      ]
     },
     "execution_count": 4,
     "metadata": {},
     "output_type": "execute_result"
    }
   ],
   "source": [
    "df_lc.head(6)"
   ]
  },
  {
   "cell_type": "code",
   "execution_count": 5,
   "metadata": {},
   "outputs": [
    {
     "data": {
      "text/plain": [
       "(13490604, 7)"
      ]
     },
     "execution_count": 5,
     "metadata": {},
     "output_type": "execute_result"
    }
   ],
   "source": [
    "df_lc.shape"
   ]
  },
  {
   "cell_type": "code",
   "execution_count": 6,
   "metadata": {},
   "outputs": [
    {
     "name": "stdout",
     "output_type": "stream",
     "text": [
      "<class 'pandas.core.frame.DataFrame'>\n",
      "RangeIndex: 13490604 entries, 0 to 13490603\n",
      "Data columns (total 7 columns):\n",
      " #   Column          Dtype \n",
      "---  ------          ----- \n",
      " 0   lsoa_code       object\n",
      " 1   borough         object\n",
      " 2   major_category  object\n",
      " 3   minor_category  object\n",
      " 4   value           int64 \n",
      " 5   year            int64 \n",
      " 6   month           int64 \n",
      "dtypes: int64(3), object(4)\n",
      "memory usage: 720.5+ MB\n"
     ]
    }
   ],
   "source": [
    "df_lc.info()"
   ]
  },
  {
   "cell_type": "code",
   "execution_count": 15,
   "metadata": {},
   "outputs": [
    {
     "data": {
      "text/plain": [
       "array(['Croydon', 'Greenwich', 'Bromley', 'Redbridge', 'Wandsworth',\n",
       "       'Ealing', 'Hounslow', 'Newham', 'Sutton', 'Haringey', 'Lambeth',\n",
       "       'Richmond upon Thames', 'Hillingdon', 'Havering',\n",
       "       'Barking and Dagenham', 'Kingston upon Thames', 'Westminster',\n",
       "       'Hackney', 'Enfield', 'Harrow', 'Lewisham', 'Brent', 'Southwark',\n",
       "       'Barnet', 'Waltham Forest', 'Camden', 'Bexley',\n",
       "       'Kensington and Chelsea', 'Islington', 'Tower Hamlets',\n",
       "       'Hammersmith and Fulham', 'Merton', 'City of London'], dtype=object)"
      ]
     },
     "execution_count": 15,
     "metadata": {},
     "output_type": "execute_result"
    }
   ],
   "source": [
    "df_lc[\"borough\"].unique()"
   ]
  },
  {
   "cell_type": "code",
   "execution_count": 16,
   "metadata": {},
   "outputs": [
    {
     "data": {
      "text/plain": [
       "array([2016, 2015, 2008, 2012, 2010, 2013, 2014, 2011, 2009])"
      ]
     },
     "execution_count": 16,
     "metadata": {},
     "output_type": "execute_result"
    }
   ],
   "source": [
    "df_lc[\"year\"].unique()"
   ]
  },
  {
   "cell_type": "code",
   "execution_count": 17,
   "metadata": {},
   "outputs": [
    {
     "data": {
      "text/plain": [
       "array(['Burglary', 'Violence Against the Person', 'Robbery',\n",
       "       'Theft and Handling', 'Criminal Damage', 'Drugs',\n",
       "       'Fraud or Forgery', 'Other Notifiable Offences', 'Sexual Offences'],\n",
       "      dtype=object)"
      ]
     },
     "execution_count": 17,
     "metadata": {},
     "output_type": "execute_result"
    }
   ],
   "source": [
    "df_lc[\"major_category\"].unique()"
   ]
  },
  {
   "cell_type": "code",
   "execution_count": 18,
   "metadata": {},
   "outputs": [
    {
     "data": {
      "text/plain": [
       "array(['Burglary in Other Buildings', 'Other violence',\n",
       "       'Personal Property', 'Other Theft', 'Offensive Weapon',\n",
       "       'Criminal Damage To Other Building', 'Theft/Taking of Pedal Cycle',\n",
       "       'Motor Vehicle Interference & Tampering',\n",
       "       'Theft/Taking Of Motor Vehicle', 'Wounding/GBH',\n",
       "       'Other Theft Person', 'Common Assault', 'Theft From Shops',\n",
       "       'Possession Of Drugs', 'Harassment', 'Handling Stolen Goods',\n",
       "       'Criminal Damage To Dwelling', 'Burglary in a Dwelling',\n",
       "       'Criminal Damage To Motor Vehicle', 'Other Criminal Damage',\n",
       "       'Counted per Victim', 'Going Equipped', 'Other Fraud & Forgery',\n",
       "       'Assault with Injury', 'Drug Trafficking', 'Other Drugs',\n",
       "       'Business Property', 'Other Notifiable', 'Other Sexual',\n",
       "       'Theft From Motor Vehicle', 'Rape', 'Murder'], dtype=object)"
      ]
     },
     "execution_count": 18,
     "metadata": {},
     "output_type": "execute_result"
    }
   ],
   "source": [
    "df_lc[\"minor_category\"].unique()"
   ]
  },
  {
   "cell_type": "code",
   "execution_count": 19,
   "metadata": {},
   "outputs": [
    {
     "data": {
      "text/plain": [
       "array([11,  5,  3,  6,  7,  4,  9,  8, 12,  1, 10,  2])"
      ]
     },
     "execution_count": 19,
     "metadata": {},
     "output_type": "execute_result"
    }
   ],
   "source": [
    "df_lc[\"month\"].unique()"
   ]
  },
  {
   "cell_type": "code",
   "execution_count": null,
   "metadata": {},
   "outputs": [],
   "source": []
  },
  {
   "cell_type": "markdown",
   "metadata": {},
   "source": [
    "## Crimes per Year"
   ]
  },
  {
   "cell_type": "code",
   "execution_count": 28,
   "metadata": {},
   "outputs": [],
   "source": [
    "crimes_per_year = {}\n",
    "for year in np.sort(df_lc['year'].unique()):\n",
    "    crimes = df_lc.loc[df_lc['year'] == year]\n",
    "    crimes_per_year[year] = sum(crimes['value'])\n",
    "    \n",
    "    \n",
    "    "
   ]
  },
  {
   "cell_type": "code",
   "execution_count": 29,
   "metadata": {},
   "outputs": [
    {
     "data": {
      "text/html": [
       "<div>\n",
       "<style scoped>\n",
       "    .dataframe tbody tr th:only-of-type {\n",
       "        vertical-align: middle;\n",
       "    }\n",
       "\n",
       "    .dataframe tbody tr th {\n",
       "        vertical-align: top;\n",
       "    }\n",
       "\n",
       "    .dataframe thead th {\n",
       "        text-align: right;\n",
       "    }\n",
       "</style>\n",
       "<table border=\"1\" class=\"dataframe\">\n",
       "  <thead>\n",
       "    <tr style=\"text-align: right;\">\n",
       "      <th></th>\n",
       "      <th>lsoa_code</th>\n",
       "      <th>borough</th>\n",
       "      <th>major_category</th>\n",
       "      <th>minor_category</th>\n",
       "      <th>value</th>\n",
       "      <th>year</th>\n",
       "      <th>month</th>\n",
       "    </tr>\n",
       "  </thead>\n",
       "  <tbody>\n",
       "    <tr>\n",
       "      <th>0</th>\n",
       "      <td>E01001116</td>\n",
       "      <td>Croydon</td>\n",
       "      <td>Burglary</td>\n",
       "      <td>Burglary in Other Buildings</td>\n",
       "      <td>0</td>\n",
       "      <td>2016</td>\n",
       "      <td>11</td>\n",
       "    </tr>\n",
       "    <tr>\n",
       "      <th>1</th>\n",
       "      <td>E01001646</td>\n",
       "      <td>Greenwich</td>\n",
       "      <td>Violence Against the Person</td>\n",
       "      <td>Other violence</td>\n",
       "      <td>0</td>\n",
       "      <td>2016</td>\n",
       "      <td>11</td>\n",
       "    </tr>\n",
       "    <tr>\n",
       "      <th>3</th>\n",
       "      <td>E01003774</td>\n",
       "      <td>Redbridge</td>\n",
       "      <td>Burglary</td>\n",
       "      <td>Burglary in Other Buildings</td>\n",
       "      <td>0</td>\n",
       "      <td>2016</td>\n",
       "      <td>3</td>\n",
       "    </tr>\n",
       "  </tbody>\n",
       "</table>\n",
       "</div>"
      ],
      "text/plain": [
       "   lsoa_code    borough               major_category  \\\n",
       "0  E01001116    Croydon                     Burglary   \n",
       "1  E01001646  Greenwich  Violence Against the Person   \n",
       "3  E01003774  Redbridge                     Burglary   \n",
       "\n",
       "                minor_category  value  year  month  \n",
       "0  Burglary in Other Buildings      0  2016     11  \n",
       "1               Other violence      0  2016     11  \n",
       "3  Burglary in Other Buildings      0  2016      3  "
      ]
     },
     "execution_count": 29,
     "metadata": {},
     "output_type": "execute_result"
    }
   ],
   "source": [
    "crimes.head(3)"
   ]
  },
  {
   "cell_type": "code",
   "execution_count": 46,
   "metadata": {},
   "outputs": [],
   "source": [
    "crimes_per_year, crimes_per_month = {}, {}\n",
    "months = ['1', '2', '3', '4', '5', '6', '7', '8', '9', '10', '11', '12']\n",
    "for year in np.sort(df_lc['year'].unique()):\n",
    "    crimes_y = df_lc.loc[(df_lc['year'] == year)]\n",
    "    crimes_per_year[year] = sum(crimes_y['value'])\n",
    "    crimes_per_month[year] = []\n",
    "    \n",
    "    \n",
    "    for month in months:\n",
    "        crimes = crimes_y.loc[crimes_y['month'] == month]\n",
    "        crimes_per_month[year].append(sum(crimes['value']))\n",
    "\n",
    "sorted_vals = list(crimes_per_year.values())\n",
    "sorted_vals.sort()\n"
   ]
  },
  {
   "cell_type": "code",
   "execution_count": 47,
   "metadata": {},
   "outputs": [],
   "source": [
    "for year in ['2008', '2012', '2016']:\n",
    "    crimes_y = df_lc.loc[(df_lc['year'] == year)]\n",
    "    crimes_per_month[year] = []\n",
    "    \n",
    "    for month in ['1', '2', '3', '4', '5', '6', '7', '8', '9', '10', '11', '12']:\n",
    "        crimes = crimes_y.loc[crimes_y['month'] == month]\n",
    "        crimes_per_month[year].append(sum(crimes['value']))"
   ]
  },
  {
   "cell_type": "code",
   "execution_count": 49,
   "metadata": {},
   "outputs": [
    {
     "data": {
      "image/png": "[encoded data removed]",
      "text/plain": [
       "<Figure size 1300x500 with 1 Axes>"
      ]
     },
     "metadata": {},
     "output_type": "display_data"
    }
   ],
   "source": [
    "plt.figure(figsize=(13, 5))\n",
    "\n",
    "xy = None\n",
    "\n",
    "for year in crimes_per_month.keys():    \n",
    "    if year == '2008':\n",
    "        xy = (0.1, max(crimes_per_month[year]))\n",
    "        markevery = [0]\n",
    "    elif year == '2012':\n",
    "        xy = (2.1, max(crimes_per_month[year]))\n",
    "        markevery = [2]\n",
    "    else:\n",
    "        xy = (6.1, max(crimes_per_month[year]))\n",
    "        markevery = [6]\n",
    "        \n",
    "    plt.plot(range(len(crimes_per_month[year])), crimes_per_month[year], \n",
    "             label=year, alpha=.8, marker='o', markersize=7.0,\n",
    "             markevery=markevery)\n",
    "    plt.annotate(max(crimes_per_month[year]), xy)\n",
    "\n",
    "plt.xticks(range(len(df_lc['month'].unique())), \n",
    "           ['1', '2', '3', '4', '5', '6', '7', '8', '9', '10', '11', '12'])\n",
    "plt.xlabel('Month')\n",
    "plt.ylabel('# of Crimes')\n",
    "plt.title('Most dangerous Years')\n",
    "plt.grid()\n",
    "plt.legend(loc='center left', bbox_to_anchor=(1, 0.5))\n",
    "plt.tight_layout()"
   ]
  },
  {
   "cell_type": "code",
   "execution_count": null,
   "metadata": {},
   "outputs": [],
   "source": []
  }
 ],
 "metadata": {
  "kernelspec": {
   "display_name": "Python 3",
   "language": "python",
   "name": "python3"
  },
  "language_info": {
   "codemirror_mode": {
    "name": "ipython",
    "version": 3
   },
   "file_extension": ".py",
   "mimetype": "text/x-python",
   "name": "python",
   "nbconvert_exporter": "python",
   "pygments_lexer": "ipython3",
   "version": "3.11.5"
  },
  "orig_nbformat": 4
 },
 "nbformat": 4,
 "nbformat_minor": 2
}
